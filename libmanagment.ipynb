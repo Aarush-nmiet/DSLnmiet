{
  "nbformat": 4,
  "nbformat_minor": 0,
  "metadata": {
    "colab": {
      "provenance": [],
      "include_colab_link": true
    },
    "kernelspec": {
      "name": "python3",
      "display_name": "Python 3"
    },
    "language_info": {
      "name": "python"
    }
  },
  "cells": [
    {
      "cell_type": "markdown",
      "metadata": {
        "id": "view-in-github",
        "colab_type": "text"
      },
      "source": [
        "<a href=\"https://colab.research.google.com/github/Aarush-nmiet/DSLnmiet/blob/main/libmanagment.ipynb\" target=\"_parent\"><img src=\"https://colab.research.google.com/assets/colab-badge.svg\" alt=\"Open In Colab\"/></a>"
      ]
    },
    {
      "cell_type": "code",
      "execution_count": 8,
      "metadata": {
        "colab": {
          "base_uri": "https://localhost:8080/"
        },
        "id": "iu-3KuHlvgv9",
        "outputId": "c9051d20-a98c-42c0-d798-fe333803ef67",
        "collapsed": true
      },
      "outputs": [
        {
          "output_type": "stream",
          "name": "stdout",
          "text": [
            "1.8333333333333333\n",
            "Py\n",
            "AI in industry\n",
            "[]\n"
          ]
        }
      ],
      "source": [
        "library_book = {\n",
        "    \"1\" : [\"Py\" , \"Basic java\" , \"C for beginers\"] ,\n",
        "    \"2\" : [\"OOPs Basic\" , \"OOPs for beginers\" , \"Py\"],\n",
        "    \"3\" : [],\n",
        "    \"4\" : [\"Dictionary\" , \"JAVA\"],\n",
        "    \"5\" : [\"AI in industry\",\"ML in Py\"],\n",
        "    \"6\" : [\"Data structures\"]\n",
        "}\n",
        "\n",
        "#average books borrowed\n",
        "lib_members = len(library_book)\n",
        "total_books = sum(len(books) for books in library_book.values())\n",
        "avg_books_borrowed = total_books/lib_members\n",
        "print(avg_books_borrowed)\n",
        "\n",
        "books_borrowed = {}\n",
        "for books in library_book.values():\n",
        "  for book in books :\n",
        "      if book in books_borrowed:\n",
        "          books_borrowed[book]+=1\n",
        "      else :\n",
        "          books_borrowed[book] = 1\n",
        "most_borrowed = max(books_borrowed)\n",
        "print(most_borrowed)\n",
        "least_borrowed = min(books_borrowed)\n",
        "print(least_borrowed)\n",
        "\n",
        "not_borrowed =\n",
        "\n",
        "\n"
      ]
    }
  ]
}