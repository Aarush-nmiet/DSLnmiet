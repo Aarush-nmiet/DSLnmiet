{
  "nbformat": 4,
  "nbformat_minor": 0,
  "metadata": {
    "colab": {
      "provenance": [],
      "include_colab_link": true
    },
    "kernelspec": {
      "name": "python3",
      "display_name": "Python 3"
    },
    "language_info": {
      "name": "python"
    }
  },
  "cells": [
    {
      "cell_type": "markdown",
      "metadata": {
        "id": "view-in-github",
        "colab_type": "text"
      },
      "source": [
        "<a href=\"https://colab.research.google.com/github/Aarush-nmiet/DSLnmiet/blob/main/libmanagment.ipynb\" target=\"_parent\"><img src=\"https://colab.research.google.com/assets/colab-badge.svg\" alt=\"Open In Colab\"/></a>"
      ]
    },
    {
      "cell_type": "code",
      "execution_count": 34,
      "metadata": {
        "colab": {
          "base_uri": "https://localhost:8080/"
        },
        "id": "iu-3KuHlvgv9",
        "outputId": "80ab7bf6-f430-4238-b593-ab6357fc0408",
        "collapsed": true
      },
      "outputs": [
        {
          "output_type": "stream",
          "name": "stdout",
          "text": [
            "1.8333333333333333\n",
            "{'Py': 2, 'Basic java': 1, 'C for beginers': 1, 'OOPs Basic': 1, 'OOPs for beginers': 1, 'ML with Py': 1, 'ML in industry': 1, 'AI in industry': 1, 'ML in Py': 1, 'Data structures': 1}\n",
            "Py\n",
            "AI in industry\n"
          ]
        }
      ],
      "source": [
        "library_book = {\n",
        "    \"1\" : [\"Py\" , \"Basic java\" , \"C for beginers\"] ,\n",
        "    \"2\" : [\"OOPs Basic\" , \"OOPs for beginers\" , \"Py\"],\n",
        "    \"3\" : [],\n",
        "    \"4\" : [\"ML with Py\" , \"ML in industry\"],\n",
        "    \"5\" : [\"AI in industry\",\"ML in Py\"],\n",
        "    \"6\" : [\"Data structures\"]\n",
        "}\n",
        "\n",
        "#average books borrowed\n",
        "lib_members = len(library_book)\n",
        "total_books = sum(len(books) for books in library_book.values())\n",
        "avg_books_borrowed = total_books/lib_members\n",
        "print(avg_books_borrowed)\n",
        "\n",
        "books_borrowed = {}\n",
        "for books in library_book.values():\n",
        "  for book in books :\n",
        "      if book in books_borrowed:\n",
        "          books_borrowed[book]+=1\n",
        "      else :\n",
        "          books_borrowed[book] = 1\n",
        "print(books_borrowed)\n",
        "\n",
        "most_borrowed = max(books_borrowed)\n",
        "print(most_borrowed)\n",
        "least_borrowed = min(books_borrowed)\n",
        "print(least_borrowed)\n",
        "\n",
        "\n",
        "\n"
      ]
    }
  ]
}